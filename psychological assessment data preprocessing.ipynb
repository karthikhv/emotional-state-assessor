{
 "cells": [
  {
   "cell_type": "code",
   "execution_count": null,
   "id": "4eed2a90-648c-4c12-bcac-7e98ff15e73e",
   "metadata": {},
   "outputs": [],
   "source": [
    "\n",
    "import pandas as pd\n",
    "from sklearn.preprocessing import LabelEncoder\n",
    "import numpy as np # For potential median filling\n"
   ]
  },
  {
   "cell_type": "code",
   "execution_count": null,
   "id": "4e1bba7f-ff5c-4d37-a595-07cb2d34d5c0",
   "metadata": {},
   "outputs": [],
   "source": [
    "FILE_NAME = 'Psychologica_data.csv'\n",
    "TARGET_COLUMN = 'Condition Summary' # Original name of the target column\n",
    "ENCODED_TARGET_COLUMN = 'emotional_state_encoded'\n"
   ]
  },
  {
   "cell_type": "code",
   "execution_count": null,
   "id": "78f4286e-0282-4388-bcbb-86886ce4a943",
   "metadata": {},
   "outputs": [
    {
     "name": "stdout",
     "output_type": "stream",
     "text": [
      "--- Starting Data Preprocessing ---\n"
     ]
    }
   ],
   "source": [
    "NEW_COLUMN_NAMES = [\n",
    "    'mood',\n",
    "    'anxious_social_scale',\n",
    "    'anxiety_triggers',\n",
    "    'sleep_quality',\n",
    "    'appetite_change',\n",
    "    'lack_of_interest',\n",
    "    'enjoyable_activities',\n",
    "    'physical_anxiety_symptoms',\n",
    "    'concentration_difficulty',\n",
    "    'coping_strategies',\n",
    "    'condition_summary' # Keep the original target column name here for now\n",
    "]\n",
    "\n",
    "print(\"--- Starting Data Preprocessing ---\")"
   ]
  },
  {
   "cell_type": "code",
   "execution_count": null,
   "id": "8a0138f2-ae3d-4add-912d-d9864aa739cf",
   "metadata": {},
   "outputs": [
    {
     "name": "stdout",
     "output_type": "stream",
     "text": [
      "Dataset 'Psychologica_data.csv' loaded successfully.\n",
      "Initial shape: (9504, 11)\n",
      "\n",
      "Initial DataFrame Info:\n",
      "<class 'pandas.core.frame.DataFrame'>\n",
      "RangeIndex: 9504 entries, 0 to 9503\n",
      "Data columns (total 11 columns):\n",
      " #   Column                                                                                                                               Non-Null Count  Dtype \n",
      "---  ------                                                                                                                               --------------  ----- \n",
      " 0   Mood: How would you describe your mood over the past two weeks?                                                                      9504 non-null   object\n",
      " 1   Anxious Social Scale: On a scale of 1-10, how often have you felt anxious in social situations recently?                             9504 non-null   object\n",
      " 2   Anxiety Triggers: Have you experienced any of the following anxiety triggers in the past month?                                      9504 non-null   object\n",
      " 3   Sleep Quality: How would you rate the quality of your sleep over the past week?                                                      9504 non-null   object\n",
      " 4   Appetite Change: Have you noticed any significant changes in your appetite?                                                          9504 non-null   object\n",
      " 5   Lack of Interest: How often have you felt a lack of interest or pleasure in daily activities?                                        9504 non-null   object\n",
      " 6   Enjoyable Activities: How often do you engage in activities you enjoy or that help you relax?                                        9504 non-null   object\n",
      " 7   Physical Anxiety Symptoms: Have you had any physical symptoms of anxiety (e.g., heart palpitations, sweating, shortness of breath)?  9504 non-null   object\n",
      " 8   Concentration Difficulty: How often do you find it difficult to concentrate on tasks?                                                9504 non-null   object\n",
      " 9   Coping Strategies: What coping strategies have you used when feeling stressed or anxious?                                            9504 non-null   object\n",
      " 10  Condition Summary                                                                                                                    9504 non-null   object\n",
      "dtypes: object(11)\n",
      "memory usage: 816.9+ KB\n"
     ]
    }
   ],
   "source": [
    "try:\n",
    "    df = pd.read_csv(FILE_NAME)\n",
    "    print(f\"Dataset '{FILE_NAME}' loaded successfully.\")\n",
    "    print(f\"Initial shape: {df.shape}\")\n",
    "    print(\"\\nInitial DataFrame Info:\")\n",
    "    df.info()\n",
    "except FileNotFoundError:\n",
    "    print(f\"Error: The file '{FILE_NAME}' was not found. Please ensure it's in the same directory as this script.\")\n",
    "    exit() # Exit if the file isn't found"
   ]
  },
  {
   "cell_type": "code",
   "execution_count": null,
   "id": "dfefda39-340b-4f08-82c9-ca3a132f67da",
   "metadata": {},
   "outputs": [
    {
     "name": "stdout",
     "output_type": "stream",
     "text": [
      "\n",
      "Columns renamed successfully:\n",
      "['mood', 'anxious_social_scale', 'anxiety_triggers', 'sleep_quality', 'appetite_change', 'lack_of_interest', 'enjoyable_activities', 'physical_anxiety_symptoms', 'concentration_difficulty', 'coping_strategies', 'condition_summary']\n",
      "\n",
      "First 5 rows with new column names:\n",
      "              mood anxious_social_scale     anxiety_triggers  \\\n",
      "0        Happiness       Mildly anxious        Family issues   \n",
      "1     Irritability     Somewhat anxious  Work-related stress   \n",
      "2        Happiness     Slightly anxious  Work-related stress   \n",
      "3      Fluctuating     Somewhat anxious    None of the above   \n",
      "4  Extreme sadness         Very anxious        Family issues   \n",
      "\n",
      "               sleep_quality     appetite_change lack_of_interest  \\\n",
      "0       Early morning waking  Increased cravings     Occasionally   \n",
      "1                    Restful    Fluctuates daily           Always   \n",
      "2       Early morning waking    Fluctuates daily           Always   \n",
      "3                Interrupted    Fluctuates daily       Frequently   \n",
      "4  Difficulty staying asleep    Loss of appetite           Rarely   \n",
      "\n",
      "  enjoyable_activities physical_anxiety_symptoms concentration_difficulty  \\\n",
      "0               Rarely         Yes, occasionally             Occasionally   \n",
      "1   A few times a week         Yes, occasionally               Constantly   \n",
      "2          Once a week         Yes, occasionally               Constantly   \n",
      "3                Never           Yes, frequently             Occasionally   \n",
      "4   A few times a week                    Rarely               Constantly   \n",
      "\n",
      "       coping_strategies                                  condition_summary  \n",
      "0      Physical activity  Sleep Disorders: Sleep disturbances potentiall...  \n",
      "1  Journaling or writing  Stress-Related Conditions: Stress due to ident...  \n",
      "2  Journaling or writing  Sleep Disorders: Sleep disturbances potentiall...  \n",
      "3      Physical activity  Mood Disorders: Indicators include mood instab...  \n",
      "4   No coping strategies  Mood Disorders: Indicators include mood instab...  \n"
     ]
    }
   ],
   "source": [
    "if len(df.columns) == len(NEW_COLUMN_NAMES):\n",
    "    df.columns = NEW_COLUMN_NAMES\n",
    "    print(\"Columns renamed successfully.\")\n",
    "else:\n",
    "    print(f\"Mismatch in column count! CSV has {len(df.columns)}, but NEW_COLUMN_NAMES has {len(NEW_COLUMN_NAMES)}.\")\n",
    "    print(\"Original column names:\", df.columns.tolist())\n",
    "    exit()\n"
   ]
  },
  {
   "cell_type": "code",
   "execution_count": null,
   "id": "58f56eea-8460-4a51-bf11-1431ead48967",
   "metadata": {},
   "outputs": [
    {
     "name": "stdout",
     "output_type": "stream",
     "text": [
      "\n",
      "Missing values before processing:\n",
      "mood                         0\n",
      "anxious_social_scale         0\n",
      "anxiety_triggers             0\n",
      "sleep_quality                0\n",
      "appetite_change              0\n",
      "lack_of_interest             0\n",
      "enjoyable_activities         0\n",
      "physical_anxiety_symptoms    0\n",
      "concentration_difficulty     0\n",
      "coping_strategies            0\n",
      "condition_summary            0\n",
      "dtype: int64\n"
     ]
    }
   ],
   "source": [
    "print(f\"\\nMissing values before processing:\\n{df.isnull().sum()}\")\n"
   ]
  },
  {
   "cell_type": "code",
   "execution_count": null,
   "id": "8f4603b1-034e-48ab-a81d-752f7ee439c1",
   "metadata": {},
   "outputs": [
    {
     "name": "stdout",
     "output_type": "stream",
     "text": [
      "\n",
      "--- Processing 'mood' column ---\n",
      "Unique values in 'mood':\n",
      "['Happiness' 'Irritability' 'Fluctuating' 'Extreme sadness' 'Stable'\n",
      " 'Anxiety' 'Mild sadness']\n",
      "Warning: Unmapped 'mood' values found: ['Stable' 'Anxiety' 'Mild sadness']. Filling with median.\n",
      "'mood' column encoded.\n"
     ]
    }
   ],
   "source": [
    "print(\"\\n--- Processing 'mood' column ---\")\n",
    "print(\"Unique values in 'mood':\")\n",
    "print(df['mood'].unique())\n",
    "mood_mapping = {\n",
    "    'Extreme sadness': 0,\n",
    "    'Very sad': 1,\n",
    "    'Somewhat sad': 2,\n",
    "    'Irritability': 3,\n",
    "    'Fluctuating': 4,\n",
    "    'Neutral': 5, # Added as a common neutral/middle ground\n",
    "    'Slightly anxious': 6,\n",
    "    'Somewhat anxious': 7,\n",
    "    'Mildly anxious': 8,\n",
    "    'Slightly happy': 9,\n",
    "    'Happiness': 10,\n",
    "    'Very happy': 11\n",
    "}\n",
    "df['mood_encoded'] = df['mood'].map(mood_mapping)\n",
    "# Handle potential unmapped values (NaNs)\n",
    "if df['mood_encoded'].isnull().sum() > 0:\n",
    "    unmapped_moods = df.loc[df['mood_encoded'].isnull(), 'mood'].unique()\n",
    "    print(f\"Warning: Unmapped 'mood' values found: {unmapped_moods}. Filling with median.\")\n",
    "    df['mood_encoded'] = df['mood_encoded'].fillna(df['mood_encoded'].median())\n",
    "print(\"'mood' column encoded.\")\n"
   ]
  },
  {
   "cell_type": "code",
   "execution_count": null,
   "id": "cccab1c1-3f45-4695-9bed-4525b8c216ef",
   "metadata": {},
   "outputs": [
    {
     "name": "stdout",
     "output_type": "stream",
     "text": [
      "\n",
      "--- Processing 'anxious_social_scale' column ---\n",
      "Unique values in 'anxious_social_scale':\n",
      "['Mildly anxious' 'Somewhat anxious' 'Slightly anxious' 'Very anxious'\n",
      " 'Extremely anxious' 'Rarely anxious' 'Fairly anxious'\n",
      " 'Moderately anxious' 'Constantly anxious' 'Not at all']\n",
      "Warning: Unmapped 'anxious_social_scale' values found: ['Mildly anxious' 'Fairly anxious' 'Moderately anxious'\n",
      " 'Constantly anxious' 'Not at all']. Filling with median.\n",
      "'anxious_social_scale' column encoded.\n"
     ]
    }
   ],
   "source": [
    "print(\"\\n--- Processing 'anxious_social_scale' column ---\")\n",
    "print(\"Unique values in 'anxious_social_scale':\")\n",
    "print(df['anxious_social_scale'].unique())\n",
    "anxious_social_mapping = {\n",
    "    'Not at all anxious': 0,\n",
    "    'Rarely anxious': 1,\n",
    "    'Slightly anxious': 2,\n",
    "    'Somewhat anxious': 3,\n",
    "    'Often anxious': 4,\n",
    "    'Very anxious': 5,\n",
    "    'Extremely anxious': 6\n",
    "}\n",
    "df['anxious_social_scale_encoded'] = df['anxious_social_scale'].map(anxious_social_mapping)\n",
    "if df['anxious_social_scale_encoded'].isnull().sum() > 0:\n",
    "    unmapped_anxious = df.loc[df['anxious_social_scale_encoded'].isnull(), 'anxious_social_scale'].unique()\n",
    "    print(f\"Warning: Unmapped 'anxious_social_scale' values found: {unmapped_anxious}. Filling with median.\")\n",
    "    df['anxious_social_scale_encoded'] = df['anxious_social_scale_encoded'].fillna(df['anxious_social_scale_encoded'].median())\n",
    "print(\"'anxious_social_scale' column encoded.\")\n"
   ]
  },
  {
   "cell_type": "code",
   "execution_count": null,
   "id": "567b95a5-323c-4f37-be2d-0cca7cb27d61",
   "metadata": {},
   "outputs": [
    {
     "name": "stdout",
     "output_type": "stream",
     "text": [
      "\n",
      "--- Processing 'anxious_social_scale' column ---\n",
      "Unique values in 'anxious_social_scale':\n",
      "['Mildly anxious' 'Somewhat anxious' 'Slightly anxious' 'Very anxious'\n",
      " 'Extremely anxious' 'Rarely anxious' 'Fairly anxious'\n",
      " 'Moderately anxious' 'Constantly anxious' 'Not at all']\n",
      "Warning: Unmapped 'anxious_social_scale' values found: ['Mildly anxious' 'Fairly anxious' 'Moderately anxious'\n",
      " 'Constantly anxious' 'Not at all']. Filling with median.\n",
      "'anxious_social_scale' column encoded.\n"
     ]
    }
   ],
   "source": [
    "print(\"\\n--- Processing 'anxious_social_scale' column ---\")\n",
    "print(\"Unique values in 'anxious_social_scale':\")\n",
    "print(df['anxious_social_scale'].unique())\n",
    "anxious_social_mapping = {\n",
    "    'Not at all anxious': 0,\n",
    "    'Rarely anxious': 1,\n",
    "    'Slightly anxious': 2,\n",
    "    'Somewhat anxious': 3,\n",
    "    'Often anxious': 4,\n",
    "    'Very anxious': 5,\n",
    "    'Extremely anxious': 6\n",
    "}\n",
    "df['anxious_social_scale_encoded'] = df['anxious_social_scale'].map(anxious_social_mapping)\n",
    "if df['anxious_social_scale_encoded'].isnull().sum() > 0:\n",
    "    unmapped_anxious = df.loc[df['anxious_social_scale_encoded'].isnull(), 'anxious_social_scale'].unique()\n",
    "    print(f\"Warning: Unmapped 'anxious_social_scale' values found: {unmapped_anxious}. Filling with median.\")\n",
    "    df['anxious_social_scale_encoded'] = df['anxious_social_scale_encoded'].fillna(df['anxious_social_scale_encoded'].median())\n",
    "print(\"'anxious_social_scale' column encoded.\")\n"
   ]
  },
  {
   "cell_type": "code",
   "execution_count": null,
   "id": "50503402-93db-4e37-ae89-5f01d729bfce",
   "metadata": {},
   "outputs": [
    {
     "name": "stdout",
     "output_type": "stream",
     "text": [
      "\n",
      "--- Processing 'anxious_social_scale' column ---\n",
      "Unique values in 'anxious_social_scale':\n",
      "['Mildly anxious' 'Somewhat anxious' 'Slightly anxious' 'Very anxious'\n",
      " 'Extremely anxious' 'Rarely anxious' 'Fairly anxious'\n",
      " 'Moderately anxious' 'Constantly anxious' 'Not at all']\n",
      "Warning: Unmapped 'anxious_social_scale' values found: ['Mildly anxious' 'Fairly anxious' 'Moderately anxious'\n",
      " 'Constantly anxious' 'Not at all']. Filling with median.\n",
      "'anxious_social_scale' column encoded.\n"
     ]
    }
   ],
   "source": [
    "print(\"\\n--- Processing 'anxious_social_scale' column ---\")\n",
    "print(\"Unique values in 'anxious_social_scale':\")\n",
    "print(df['anxious_social_scale'].unique())\n",
    "anxious_social_mapping = {\n",
    "    'Not at all anxious': 0,\n",
    "    'Rarely anxious': 1,\n",
    "    'Slightly anxious': 2,\n",
    "    'Somewhat anxious': 3,\n",
    "    'Often anxious': 4,\n",
    "    'Very anxious': 5,\n",
    "    'Extremely anxious': 6\n",
    "}\n",
    "df['anxious_social_scale_encoded'] = df['anxious_social_scale'].map(anxious_social_mapping)\n",
    "if df['anxious_social_scale_encoded'].isnull().sum() > 0:\n",
    "    unmapped_anxious = df.loc[df['anxious_social_scale_encoded'].isnull(), 'anxious_social_scale'].unique()\n",
    "    print(f\"Warning: Unmapped 'anxious_social_scale' values found: {unmapped_anxious}. Filling with median.\")\n",
    "    df['anxious_social_scale_encoded'] = df['anxious_social_scale_encoded'].fillna(df['anxious_social_scale_encoded'].median())\n",
    "print(\"'anxious_social_scale' column encoded.\")\n"
   ]
  },
  {
   "cell_type": "code",
   "execution_count": null,
   "id": "6e119461-5bb8-45e2-9f8f-a1294fc9ae2f",
   "metadata": {},
   "outputs": [
    {
     "name": "stdout",
     "output_type": "stream",
     "text": [
      "\n",
      "--- Processing 'anxious_social_scale' column ---\n",
      "Unique values in 'anxious_social_scale':\n",
      "['Mildly anxious' 'Somewhat anxious' 'Slightly anxious' 'Very anxious'\n",
      " 'Extremely anxious' 'Rarely anxious' 'Fairly anxious'\n",
      " 'Moderately anxious' 'Constantly anxious' 'Not at all']\n",
      "Warning: Unmapped 'anxious_social_scale' values found: ['Mildly anxious' 'Fairly anxious' 'Moderately anxious'\n",
      " 'Constantly anxious' 'Not at all']. Filling with median.\n",
      "'anxious_social_scale' column encoded.\n"
     ]
    }
   ],
   "source": [
    "print(\"\\n--- Processing 'anxious_social_scale' column ---\")\n",
    "print(\"Unique values in 'anxious_social_scale':\")\n",
    "print(df['anxious_social_scale'].unique())\n",
    "anxious_social_mapping = {\n",
    "    'Not at all anxious': 0,\n",
    "    'Rarely anxious': 1,\n",
    "    'Slightly anxious': 2,\n",
    "    'Somewhat anxious': 3,\n",
    "    'Often anxious': 4,\n",
    "    'Very anxious': 5,\n",
    "    'Extremely anxious': 6\n",
    "}\n",
    "df['anxious_social_scale_encoded'] = df['anxious_social_scale'].map(anxious_social_mapping)\n",
    "if df['anxious_social_scale_encoded'].isnull().sum() > 0:\n",
    "    unmapped_anxious = df.loc[df['anxious_social_scale_encoded'].isnull(), 'anxious_social_scale'].unique()\n",
    "    print(f\"Warning: Unmapped 'anxious_social_scale' values found: {unmapped_anxious}. Filling with median.\")\n",
    "    df['anxious_social_scale_encoded'] = df['anxious_social_scale_encoded'].fillna(df['anxious_social_scale_encoded'].median())\n",
    "print(\"'anxious_social_scale' column encoded.\")\n"
   ]
  },
  {
   "cell_type": "code",
   "execution_count": null,
   "id": "0b89bf55-1bf1-4c27-a1fd-35358b2712b6",
   "metadata": {},
   "outputs": [
    {
     "name": "stdout",
     "output_type": "stream",
     "text": [
      "\n",
      "--- Processing 'anxious_social_scale' column ---\n",
      "Unique values in 'anxious_social_scale':\n",
      "['Mildly anxious' 'Somewhat anxious' 'Slightly anxious' 'Very anxious'\n",
      " 'Extremely anxious' 'Rarely anxious' 'Fairly anxious'\n",
      " 'Moderately anxious' 'Constantly anxious' 'Not at all']\n",
      "Warning: Unmapped 'anxious_social_scale' values found: ['Mildly anxious' 'Fairly anxious' 'Moderately anxious'\n",
      " 'Constantly anxious' 'Not at all']. Filling with median.\n",
      "'anxious_social_scale' column encoded.\n"
     ]
    }
   ],
   "source": [
    "print(\"\\n--- Processing 'anxious_social_scale' column ---\")\n",
    "print(\"Unique values in 'anxious_social_scale':\")\n",
    "print(df['anxious_social_scale'].unique())\n",
    "anxious_social_mapping = {\n",
    "    'Not at all anxious': 0,\n",
    "    'Rarely anxious': 1,\n",
    "    'Slightly anxious': 2,\n",
    "    'Somewhat anxious': 3,\n",
    "    'Often anxious': 4,\n",
    "    'Very anxious': 5,\n",
    "    'Extremely anxious': 6\n",
    "}\n",
    "df['anxious_social_scale_encoded'] = df['anxious_social_scale'].map(anxious_social_mapping)\n",
    "if df['anxious_social_scale_encoded'].isnull().sum() > 0:\n",
    "    unmapped_anxious = df.loc[df['anxious_social_scale_encoded'].isnull(), 'anxious_social_scale'].unique()\n",
    "    print(f\"Warning: Unmapped 'anxious_social_scale' values found: {unmapped_anxious}. Filling with median.\")\n",
    "    df['anxious_social_scale_encoded'] = df['anxious_social_scale_encoded'].fillna(df['anxious_social_scale_encoded'].median())\n",
    "print(\"'anxious_social_scale' column encoded.\")\n"
   ]
  },
  {
   "cell_type": "code",
   "execution_count": null,
   "id": "49663594-f29a-4fcb-9240-3c3b24926cfb",
   "metadata": {},
   "outputs": [
    {
     "name": "stdout",
     "output_type": "stream",
     "text": [
      "\n",
      "--- Processing 'anxious_social_scale' column ---\n",
      "Unique values in 'anxious_social_scale':\n",
      "['Mildly anxious' 'Somewhat anxious' 'Slightly anxious' 'Very anxious'\n",
      " 'Extremely anxious' 'Rarely anxious' 'Fairly anxious'\n",
      " 'Moderately anxious' 'Constantly anxious' 'Not at all']\n",
      "Warning: Unmapped 'anxious_social_scale' values found: ['Mildly anxious' 'Fairly anxious' 'Moderately anxious'\n",
      " 'Constantly anxious' 'Not at all']. Filling with median.\n",
      "'anxious_social_scale' column encoded.\n"
     ]
    }
   ],
   "source": [
    "print(\"\\n--- Processing 'anxious_social_scale' column ---\")\n",
    "print(\"Unique values in 'anxious_social_scale':\")\n",
    "print(df['anxious_social_scale'].unique())\n",
    "anxious_social_mapping = {\n",
    "    'Not at all anxious': 0,\n",
    "    'Rarely anxious': 1,\n",
    "    'Slightly anxious': 2,\n",
    "    'Somewhat anxious': 3,\n",
    "    'Often anxious': 4,\n",
    "    'Very anxious': 5,\n",
    "    'Extremely anxious': 6\n",
    "}\n",
    "df['anxious_social_scale_encoded'] = df['anxious_social_scale'].map(anxious_social_mapping)\n",
    "if df['anxious_social_scale_encoded'].isnull().sum() > 0:\n",
    "    unmapped_anxious = df.loc[df['anxious_social_scale_encoded'].isnull(), 'anxious_social_scale'].unique()\n",
    "    print(f\"Warning: Unmapped 'anxious_social_scale' values found: {unmapped_anxious}. Filling with median.\")\n",
    "    df['anxious_social_scale_encoded'] = df['anxious_social_scale_encoded'].fillna(df['anxious_social_scale_encoded'].median())\n",
    "print(\"'anxious_social_scale' column encoded.\")\n"
   ]
  },
  {
   "cell_type": "code",
   "execution_count": null,
   "id": "9cc4d363-ed2c-48b6-a519-0f4ddb04a5a9",
   "metadata": {},
   "outputs": [
    {
     "name": "stdout",
     "output_type": "stream",
     "text": [
      "\n",
      "--- Processing 'anxious_social_scale' column ---\n",
      "Unique values in 'anxious_social_scale':\n",
      "['Mildly anxious' 'Somewhat anxious' 'Slightly anxious' 'Very anxious'\n",
      " 'Extremely anxious' 'Rarely anxious' 'Fairly anxious'\n",
      " 'Moderately anxious' 'Constantly anxious' 'Not at all']\n",
      "Warning: Unmapped 'anxious_social_scale' values found: ['Mildly anxious' 'Fairly anxious' 'Moderately anxious'\n",
      " 'Constantly anxious' 'Not at all']. Filling with median.\n",
      "'anxious_social_scale' column encoded.\n"
     ]
    }
   ],
   "source": [
    "print(\"\\n--- Processing 'anxious_social_scale' column ---\")\n",
    "print(\"Unique values in 'anxious_social_scale':\")\n",
    "print(df['anxious_social_scale'].unique())\n",
    "anxious_social_mapping = {\n",
    "    'Not at all anxious': 0,\n",
    "    'Rarely anxious': 1,\n",
    "    'Slightly anxious': 2,\n",
    "    'Somewhat anxious': 3,\n",
    "    'Often anxious': 4,\n",
    "    'Very anxious': 5,\n",
    "    'Extremely anxious': 6\n",
    "}\n",
    "df['anxious_social_scale_encoded'] = df['anxious_social_scale'].map(anxious_social_mapping)\n",
    "if df['anxious_social_scale_encoded'].isnull().sum() > 0:\n",
    "    unmapped_anxious = df.loc[df['anxious_social_scale_encoded'].isnull(), 'anxious_social_scale'].unique()\n",
    "    print(f\"Warning: Unmapped 'anxious_social_scale' values found: {unmapped_anxious}. Filling with median.\")\n",
    "    df['anxious_social_scale_encoded'] = df['anxious_social_scale_encoded'].fillna(df['anxious_social_scale_encoded'].median())\n",
    "print(\"'anxious_social_scale' column encoded.\")\n"
   ]
  },
  {
   "cell_type": "code",
   "execution_count": null,
   "id": "b6c1e2c9-49f5-4db8-a617-d8afe09a5e61",
   "metadata": {},
   "outputs": [
    {
     "name": "stdout",
     "output_type": "stream",
     "text": [
      "\n",
      "--- Processing 'anxious_social_scale' column ---\n",
      "Unique values in 'anxious_social_scale':\n",
      "['Mildly anxious' 'Somewhat anxious' 'Slightly anxious' 'Very anxious'\n",
      " 'Extremely anxious' 'Rarely anxious' 'Fairly anxious'\n",
      " 'Moderately anxious' 'Constantly anxious' 'Not at all']\n",
      "Warning: Unmapped 'anxious_social_scale' values found: ['Mildly anxious' 'Fairly anxious' 'Moderately anxious'\n",
      " 'Constantly anxious' 'Not at all']. Filling with median.\n",
      "'anxious_social_scale' column encoded.\n"
     ]
    }
   ],
   "source": [
    "print(\"\\n--- Processing 'anxious_social_scale' column ---\")\n",
    "print(\"Unique values in 'anxious_social_scale':\")\n",
    "print(df['anxious_social_scale'].unique())\n",
    "anxious_social_mapping = {\n",
    "    'Not at all anxious': 0,\n",
    "    'Rarely anxious': 1,\n",
    "    'Slightly anxious': 2,\n",
    "    'Somewhat anxious': 3,\n",
    "    'Often anxious': 4,\n",
    "    'Very anxious': 5,\n",
    "    'Extremely anxious': 6\n",
    "}\n",
    "df['anxious_social_scale_encoded'] = df['anxious_social_scale'].map(anxious_social_mapping)\n",
    "if df['anxious_social_scale_encoded'].isnull().sum() > 0:\n",
    "    unmapped_anxious = df.loc[df['anxious_social_scale_encoded'].isnull(), 'anxious_social_scale'].unique()\n",
    "    print(f\"Warning: Unmapped 'anxious_social_scale' values found: {unmapped_anxious}. Filling with median.\")\n",
    "    df['anxious_social_scale_encoded'] = df['anxious_social_scale_encoded'].fillna(df['anxious_social_scale_encoded'].median())\n",
    "print(\"'anxious_social_scale' column encoded.\")\n"
   ]
  },
  {
   "cell_type": "code",
   "execution_count": null,
   "id": "4b76b43f-4a0b-4ccb-80f2-63cf5982153b",
   "metadata": {},
   "outputs": [
    {
     "name": "stdout",
     "output_type": "stream",
     "text": [
      "\n",
      "--- Processing 'anxious_social_scale' column ---\n",
      "Unique values in 'anxious_social_scale':\n",
      "['Mildly anxious' 'Somewhat anxious' 'Slightly anxious' 'Very anxious'\n",
      " 'Extremely anxious' 'Rarely anxious' 'Fairly anxious'\n",
      " 'Moderately anxious' 'Constantly anxious' 'Not at all']\n",
      "Warning: Unmapped 'anxious_social_scale' values found: ['Mildly anxious' 'Fairly anxious' 'Moderately anxious'\n",
      " 'Constantly anxious' 'Not at all']. Filling with median.\n",
      "'anxious_social_scale' column encoded.\n"
     ]
    }
   ],
   "source": [
    "print(\"\\n--- Processing 'anxious_social_scale' column ---\")\n",
    "print(\"Unique values in 'anxious_social_scale':\")\n",
    "print(df['anxious_social_scale'].unique())\n",
    "anxious_social_mapping = {\n",
    "    'Not at all anxious': 0,\n",
    "    'Rarely anxious': 1,\n",
    "    'Slightly anxious': 2,\n",
    "    'Somewhat anxious': 3,\n",
    "    'Often anxious': 4,\n",
    "    'Very anxious': 5,\n",
    "    'Extremely anxious': 6\n",
    "}\n",
    "df['anxious_social_scale_encoded'] = df['anxious_social_scale'].map(anxious_social_mapping)\n",
    "if df['anxious_social_scale_encoded'].isnull().sum() > 0:\n",
    "    unmapped_anxious = df.loc[df['anxious_social_scale_encoded'].isnull(), 'anxious_social_scale'].unique()\n",
    "    print(f\"Warning: Unmapped 'anxious_social_scale' values found: {unmapped_anxious}. Filling with median.\")\n",
    "    df['anxious_social_scale_encoded'] = df['anxious_social_scale_encoded'].fillna(df['anxious_social_scale_encoded'].median())\n",
    "print(\"'anxious_social_scale' column encoded.\")\n"
   ]
  },
  {
   "cell_type": "code",
   "execution_count": null,
   "id": "844c312c-382f-4373-9d63-7e041396b92b",
   "metadata": {},
   "outputs": [
    {
     "name": "stdout",
     "output_type": "stream",
     "text": [
      "\n",
      "--- Processing 'anxious_social_scale' column ---\n",
      "Unique values in 'anxious_social_scale':\n",
      "['Mildly anxious' 'Somewhat anxious' 'Slightly anxious' 'Very anxious'\n",
      " 'Extremely anxious' 'Rarely anxious' 'Fairly anxious'\n",
      " 'Moderately anxious' 'Constantly anxious' 'Not at all']\n",
      "Warning: Unmapped 'anxious_social_scale' values found: ['Mildly anxious' 'Fairly anxious' 'Moderately anxious'\n",
      " 'Constantly anxious' 'Not at all']. Filling with median.\n",
      "'anxious_social_scale' column encoded.\n"
     ]
    }
   ],
   "source": [
    "print(\"\\n--- Processing 'anxious_social_scale' column ---\")\n",
    "print(\"Unique values in 'anxious_social_scale':\")\n",
    "print(df['anxious_social_scale'].unique())\n",
    "anxious_social_mapping = {\n",
    "    'Not at all anxious': 0,\n",
    "    'Rarely anxious': 1,\n",
    "    'Slightly anxious': 2,\n",
    "    'Somewhat anxious': 3,\n",
    "    'Often anxious': 4,\n",
    "    'Very anxious': 5,\n",
    "    'Extremely anxious': 6\n",
    "}\n",
    "df['anxious_social_scale_encoded'] = df['anxious_social_scale'].map(anxious_social_mapping)\n",
    "if df['anxious_social_scale_encoded'].isnull().sum() > 0:\n",
    "    unmapped_anxious = df.loc[df['anxious_social_scale_encoded'].isnull(), 'anxious_social_scale'].unique()\n",
    "    print(f\"Warning: Unmapped 'anxious_social_scale' values found: {unmapped_anxious}. Filling with median.\")\n",
    "    df['anxious_social_scale_encoded'] = df['anxious_social_scale_encoded'].fillna(df['anxious_social_scale_encoded'].median())\n",
    "print(\"'anxious_social_scale' column encoded.\")\n"
   ]
  },
  {
   "cell_type": "code",
   "execution_count": null,
   "id": "f20e1f9a-6c23-4585-bfc1-4696ac1ad830",
   "metadata": {},
   "outputs": [
    {
     "name": "stdout",
     "output_type": "stream",
     "text": [
      "\n",
      "--- Processing 'anxiety_triggers' column ---\n",
      "Unique values in 'anxiety_triggers':\n",
      "['Family issues' 'Work-related stress' 'None of the above'\n",
      " 'Financial concerns' 'Social situations' 'Health concerns']\n",
      "'anxiety_triggers' column one-hot encoded.\n"
     ]
    }
   ],
   "source": [
    "print(\"\\n--- Processing 'anxiety_triggers' column ---\")\n",
    "print(\"Unique values in 'anxiety_triggers':\")\n",
    "print(df['anxiety_triggers'].unique())\n",
    "# This is a categorical column. One-Hot Encoding is a good choice if multiple triggers are not common in one cell.\n",
    "# If a cell can contain \"Work-related stress, Family issues\", then you'd need more complex splitting/binary flags.\n",
    "# For simplicity and given the sample, we'll assume single categories per cell or 'None of the above'.\n",
    "df = pd.get_dummies(df, columns=['anxiety_triggers'], prefix='trigger')\n",
    "print(\"'anxiety_triggers' column one-hot encoded.\")"
   ]
  },
  {
   "cell_type": "code",
   "execution_count": null,
   "id": "e0e1f936-b4b2-4af1-a21a-2b9c61ae45ce",
   "metadata": {},
   "outputs": [
    {
     "name": "stdout",
     "output_type": "stream",
     "text": [
      "\n",
      "--- Processing 'sleep_quality' column ---\n",
      "Unique values in 'sleep_quality':\n",
      "['Early morning waking' 'Restful' 'Interrupted'\n",
      " 'Difficulty staying asleep' 'None of the above' 'Trouble falling asleep']\n",
      "Warning: Unmapped 'sleep_quality' values found: ['None of the above' 'Trouble falling asleep']. Filling with median.\n",
      "'sleep_quality' column encoded.\n"
     ]
    }
   ],
   "source": [
    "print(\"\\n--- Processing 'sleep_quality' column ---\")\n",
    "print(\"Unique values in 'sleep_quality':\")\n",
    "print(df['sleep_quality'].unique())\n",
    "sleep_quality_mapping = {\n",
    "    'Difficulty staying asleep': 0,\n",
    "    'Early morning waking': 1,\n",
    "    'Interrupted': 2,\n",
    "    'Restless': 3,\n",
    "    'Normal': 4,\n",
    "    'Restful': 5,\n",
    "    'Excellent': 6\n",
    "}\n",
    "df['sleep_quality_encoded'] = df['sleep_quality'].map(sleep_quality_mapping)\n",
    "if df['sleep_quality_encoded'].isnull().sum() > 0:\n",
    "    unmapped_sleep = df.loc[df['sleep_quality_encoded'].isnull(), 'sleep_quality'].unique()\n",
    "    print(f\"Warning: Unmapped 'sleep_quality' values found: {unmapped_sleep}. Filling with median.\")\n",
    "    df['sleep_quality_encoded'] = df['sleep_quality_encoded'].fillna(df['sleep_quality_encoded'].median())\n",
    "print(\"'sleep_quality' column encoded.\")"
   ]
  },
  {
   "cell_type": "code",
   "execution_count": null,
   "id": "5c41b055-f7c3-4e77-9bb2-6794b5f6f2c8",
   "metadata": {},
   "outputs": [
    {
     "name": "stdout",
     "output_type": "stream",
     "text": [
      "\n",
      "--- Processing 'appetite_change' column ---\n",
      "Unique values in 'appetite_change':\n",
      "['Increased cravings' 'Fluctuates daily' 'Loss of appetite' 'No change']\n",
      "Warning: Unmapped 'appetite_change' values found: ['No change']. Filling with median.\n",
      "'appetite_change' column encoded.\n"
     ]
    }
   ],
   "source": [
    "print(\"\\n--- Processing 'appetite_change' column ---\")\n",
    "print(\"Unique values in 'appetite_change':\")\n",
    "print(df['appetite_change'].unique())\n",
    "appetite_change_mapping = {\n",
    "    'Loss of appetite': 0,\n",
    "    'Decreased': 1,\n",
    "    'Fluctuates daily': 2,\n",
    "    'No significant change': 3,\n",
    "    'Increased cravings': 4,\n",
    "    'Increased': 5\n",
    "}\n",
    "df['appetite_change_encoded'] = df['appetite_change'].map(appetite_change_mapping)\n",
    "if df['appetite_change_encoded'].isnull().sum() > 0:\n",
    "    unmapped_appetite = df.loc[df['appetite_change_encoded'].isnull(), 'appetite_change'].unique()\n",
    "    print(f\"Warning: Unmapped 'appetite_change' values found: {unmapped_appetite}. Filling with median.\")\n",
    "    df['appetite_change_encoded'] = df['appetite_change_encoded'].fillna(df['appetite_change_encoded'].median())\n",
    "print(\"'appetite_change' column encoded.\")"
   ]
  },
  {
   "cell_type": "code",
   "execution_count": null,
   "id": "4a7d0b9b-75f4-4f74-9d16-75392ebe6015",
   "metadata": {},
   "outputs": [
    {
     "name": "stdout",
     "output_type": "stream",
     "text": [
      "\n",
      "--- Processing 'lack_of_interest' column ---\n",
      "Unique values in 'lack_of_interest':\n",
      "['Occasionally' 'Always' 'Frequently' 'Rarely' 'Never']\n",
      "'lack_of_interest' column encoded.\n"
     ]
    }
   ],
   "source": [
    "print(\"\\n--- Processing 'lack_of_interest' column ---\")\n",
    "print(\"Unique values in 'lack_of_interest':\")\n",
    "print(df['lack_of_interest'].unique())\n",
    "lack_of_interest_mapping = {\n",
    "    'Never': 0,\n",
    "    'Rarely': 1,\n",
    "    'Occasionally': 2,\n",
    "    'Frequently': 3,\n",
    "    'Always': 4\n",
    "}\n",
    "df['lack_of_interest_encoded'] = df['lack_of_interest'].map(lack_of_interest_mapping)\n",
    "if df['lack_of_interest_encoded'].isnull().sum() > 0:\n",
    "    unmapped_interest = df.loc[df['lack_of_interest_encoded'].isnull(), 'lack_of_interest'].unique()\n",
    "    print(f\"Warning: Unmapped 'lack_of_interest' values found: {unmapped_interest}. Filling with median.\")\n",
    "    df['lack_of_interest_encoded'] = df['lack_of_interest_encoded'].fillna(df['lack_of_interest_encoded'].median())\n",
    "print(\"'lack_of_interest' column encoded.\")"
   ]
  },
  {
   "cell_type": "code",
   "execution_count": null,
   "id": "1a54bed3-7973-4b9a-b3e8-41ce112f167b",
   "metadata": {},
   "outputs": [
    {
     "name": "stdout",
     "output_type": "stream",
     "text": [
      "\n",
      "--- Processing 'enjoyable_activities' column ---\n",
      "Unique values in 'enjoyable_activities':\n",
      "['Rarely' 'A few times a week' 'Once a week' 'Never' 'Daily']\n",
      "'enjoyable_activities' column encoded.\n"
     ]
    }
   ],
   "source": [
    "print(\"\\n--- Processing 'enjoyable_activities' column ---\")\n",
    "print(\"Unique values in 'enjoyable_activities':\")\n",
    "print(df['enjoyable_activities'].unique())\n",
    "enjoyable_activities_mapping = {\n",
    "    'Never': 0,\n",
    "    'Rarely': 1,\n",
    "    'Once a week': 2,\n",
    "    'A few times a week': 3,\n",
    "    'Daily': 4,\n",
    "    'Always': 5 # Or 'Very Often'\n",
    "}\n",
    "df['enjoyable_activities_encoded'] = df['enjoyable_activities'].map(enjoyable_activities_mapping)\n",
    "if df['enjoyable_activities_encoded'].isnull().sum() > 0:\n",
    "    unmapped_enjoy = df.loc[df['enjoyable_activities_encoded'].isnull(), 'enjoyable_activities'].unique()\n",
    "    print(f\"Warning: Unmapped 'enjoyable_activities' values found: {unmapped_enjoy}. Filling with median.\")\n",
    "    df['enjoyable_activities_encoded'] = df['enjoyable_activities_encoded'].fillna(df['enjoyable_activities_encoded'].median())\n",
    "print(\"'enjoyable_activities' column encoded.\")"
   ]
  },
  {
   "cell_type": "code",
   "execution_count": null,
   "id": "f62eff4c-c947-461b-80cc-cfe6c2158465",
   "metadata": {},
   "outputs": [
    {
     "name": "stdout",
     "output_type": "stream",
     "text": [
      "\n",
      "--- Processing 'physical_anxiety_symptoms' column ---\n",
      "Unique values in 'physical_anxiety_symptoms':\n",
      "['Yes, occasionally' 'Yes, frequently' 'Rarely' 'No, not at all']\n",
      "Warning: Unmapped 'physical_anxiety_symptoms' values found: ['No, not at all']. Filling with median.\n",
      "'physical_anxiety_symptoms' column encoded.\n"
     ]
    }
   ],
   "source": [
    "print(\"\\n--- Processing 'physical_anxiety_symptoms' column ---\")\n",
    "print(\"Unique values in 'physical_anxiety_symptoms':\")\n",
    "print(df['physical_anxiety_symptoms'].unique())\n",
    "physical_anxiety_mapping = {\n",
    "    'No': 0,\n",
    "    'Rarely': 1,\n",
    "    'Yes, occasionally': 2,\n",
    "    'Yes, frequently': 3,\n",
    "    'Always': 4\n",
    "}\n",
    "df['physical_anxiety_symptoms_encoded'] = df['physical_anxiety_symptoms'].map(physical_anxiety_mapping)\n",
    "if df['physical_anxiety_symptoms_encoded'].isnull().sum() > 0:\n",
    "    unmapped_physical = df.loc[df['physical_anxiety_symptoms_encoded'].isnull(), 'physical_anxiety_symptoms'].unique()\n",
    "    print(f\"Warning: Unmapped 'physical_anxiety_symptoms' values found: {unmapped_physical}. Filling with median.\")\n",
    "    df['physical_anxiety_symptoms_encoded'] = df['physical_anxiety_symptoms_encoded'].fillna(df['physical_anxiety_symptoms_encoded'].median())\n",
    "print(\"'physical_anxiety_symptoms' column encoded.\")"
   ]
  },
  {
   "cell_type": "code",
   "execution_count": null,
   "id": "42b7e761-998d-4984-9e1e-b8738b52117f",
   "metadata": {},
   "outputs": [
    {
     "name": "stdout",
     "output_type": "stream",
     "text": [
      "\n",
      "--- Processing 'concentration_difficulty' column ---\n",
      "Unique values in 'concentration_difficulty':\n",
      "['Occasionally' 'Constantly' 'Never' 'Frequently']\n",
      "'concentration_difficulty' column encoded.\n"
     ]
    }
   ],
   "source": [
    "print(\"\\n--- Processing 'concentration_difficulty' column ---\")\n",
    "print(\"Unique values in 'concentration_difficulty':\")\n",
    "print(df['concentration_difficulty'].unique())\n",
    "concentration_difficulty_mapping = {\n",
    "    'Never': 0,\n",
    "    'Rarely': 1,\n",
    "    'Occasionally': 2,\n",
    "    'Frequently': 3,\n",
    "    'Constantly': 4\n",
    "}\n",
    "df['concentration_difficulty_encoded'] = df['concentration_difficulty'].map(concentration_difficulty_mapping)\n",
    "if df['concentration_difficulty_encoded'].isnull().sum() > 0:\n",
    "    unmapped_conc = df.loc[df['concentration_difficulty_encoded'].isnull(), 'concentration_difficulty'].unique()\n",
    "    print(f\"Warning: Unmapped 'concentration_difficulty' values found: {unmapped_conc}. Filling with median.\")\n",
    "    df['concentration_difficulty_encoded'] = df['concentration_difficulty_encoded'].fillna(df['concentration_difficulty_encoded'].median())\n",
    "print(\"'concentration_difficulty' column encoded.\")"
   ]
  },
  {
   "cell_type": "code",
   "execution_count": null,
   "id": "ad9a132f-983d-4743-b8d2-60ae3dc3899a",
   "metadata": {},
   "outputs": [
    {
     "name": "stdout",
     "output_type": "stream",
     "text": [
      "\n",
      "--- Processing 'coping_strategies' column ---\n",
      "Unique values in 'coping_strategies':\n",
      "['Physical activity' 'Journaling or writing' 'No coping strategies'\n",
      " 'Social engagement' 'Mindfulness or meditation']\n",
      "'coping_strategies' column simplified to binary flag.\n"
     ]
    }
   ],
   "source": [
    "print(\"\\n--- Processing 'coping_strategies' column ---\")\n",
    "print(\"Unique values in 'coping_strategies':\")\n",
    "print(df['coping_strategies'].unique())\n",
    "# This can be tricky if multiple strategies are listed in one cell.\n",
    "# For simplicity, we'll create a binary flag: 1 if any strategy is mentioned, 0 if \"No coping strategies\".\n",
    "df['has_coping_strategies'] = df['coping_strategies'].apply(lambda x: 0 if 'No coping strategies' in str(x) else 1)\n",
    "print(\"'coping_strategies' column simplified to binary flag.\")\n"
   ]
  },
  {
   "cell_type": "code",
   "execution_count": null,
   "id": "7693100f-0980-4c8e-a8a7-480d6a19b6d1",
   "metadata": {},
   "outputs": [
    {
     "name": "stdout",
     "output_type": "stream",
     "text": [
      "\n",
      "--- Processing Target Column: 'condition_summary' ---\n",
      "Unique values in 'condition_summary' (before mapping to Happy/Normal/Sad):\n",
      "['Sleep Disorders: Sleep disturbances potentially linked to mood disorders or anxiety, impacting overall well-being.'\n",
      " 'Stress-Related Conditions: Stress due to identifiable triggers, often linked to reduced self-care and coping strategy use.'\n",
      " 'Mood Disorders: Indicators include mood instability, lack of interest in activities, appetite changes, and sleep disturbances.'\n",
      " 'Cognitive Impairments: Difficulty focusing, potentially related to anxiety, fatigue, or mood disorders.'\n",
      " 'Eating Disorders: Appetite fluctuations, often tied to mood changes and stress.'\n",
      " 'Generalized Anxiety Disorder: Characterized by chronic worry, physical anxiety symptoms, and difficulty concentrating.'\n",
      " 'General Mental Health: Responses do not strongly align with specific conditions but indicate areas for further exploration.'\n",
      " 'Post-Traumatic Stress Disorder: Anxiety symptoms tied to specific triggers, with associated avoidance behaviors.'\n",
      " 'Coping and Resilience: Lack of effective coping strategies, indicating vulnerability to stress and anxiety.']\n"
     ]
    }
   ],
   "source": [
    "print(\"\\n--- Processing Target Column: 'condition_summary' ---\")\n",
    "print(\"Unique values in 'condition_summary' (before mapping to Happy/Normal/Sad):\")\n",
    "print(df['condition_summary'].unique())"
   ]
  },
  {
   "cell_type": "code",
   "execution_count": 27,
   "id": "8b3ecf6a-4ede-4b52-b24f-2e5d8e7ef132",
   "metadata": {},
   "outputs": [],
   "source": [
    "def map_condition_to_emotion(summary):\n",
    "    summary = str(summary).lower() # Convert to string and lowercase for robust matching\n",
    "    if any(phrase in summary for phrase in ['happiness', 'positive outlook', 'well-being', 'good mental state', 'optimistic']):\n",
    "        return 'Happy'\n",
    "    elif any(phrase in summary for phrase in ['extreme sadness', 'very sad', 'depression', 'mood disorders', 'difficulty concentrating', 'loss of interest', 'significant distress', 'overwhelmed', 'hopeless']):\n",
    "        return 'Sad'\n",
    "    # 'Normal' or 'Neutral' conditions, or perhaps 'Mildly Anxious'\n",
    "    elif any(phrase in summary for phrase in ['irritability', 'fluctuating', 'somewhat anxious', 'mildly anxious', 'sleep disorders', 'stress-related conditions', 'physical symptoms', 'mild anxiety', 'unspecified discomfort', 'somewhat anxious', 'unstable', 'average']):\n",
    "        return 'Normal'\n",
    "    else:\n",
    "        # Fallback for any unmapped summaries. This is important to catch all data points.\n",
    "        # You might want to print these during development to refine your mapping.\n",
    "        # print(f\"Warning: Unmapped summary '{summary}' - defaulting to Normal\")\n",
    "        return 'Normal'\n",
    "\n",
    "df['emotional_state_label'] = df['condition_summary'].apply(map_condition_to_emotion)"
   ]
  },
  {
   "cell_type": "code",
   "execution_count": 28,
   "id": "d9540eba-1636-43ba-afc4-82a75147287b",
   "metadata": {},
   "outputs": [
    {
     "name": "stdout",
     "output_type": "stream",
     "text": [
      "\n",
      "Distribution of mapped emotional states:\n",
      "emotional_state_label\n",
      "Sad       4293\n",
      "Happy     3606\n",
      "Normal    1605\n",
      "Name: count, dtype: int64\n"
     ]
    }
   ],
   "source": [
    "print(\"\\nDistribution of mapped emotional states:\")\n",
    "print(df['emotional_state_label'].value_counts())"
   ]
  },
  {
   "cell_type": "code",
   "execution_count": 60,
   "id": "985d5568-a2fb-4240-9c3a-f5690543ed02",
   "metadata": {},
   "outputs": [
    {
     "name": "stdout",
     "output_type": "stream",
     "text": [
      "\n",
      "LabelEncoder classes (numerical mapping for 'emotional_state_encoded'):\n",
      "['Happy', 'Normal', 'Sad']\n"
     ]
    }
   ],
   "source": [
    "le = LabelEncoder()\n",
    "df[ENCODED_TARGET_COLUMN] = le.fit_transform(df['emotional_state_label'])\n",
    "\n",
    "print(f\"\\nLabelEncoder classes (numerical mapping for '{ENCODED_TARGET_COLUMN}'):\")\n",
    "# This tells you which number corresponds to which label (e.g., 0: 'Happy', 1: 'Normal', 2: 'Sad')\n",
    "print(list(le.classes_))"
   ]
  },
  {
   "cell_type": "code",
   "execution_count": 62,
   "id": "a732163b-d16a-4681-a75d-e63aa4209610",
   "metadata": {},
   "outputs": [
    {
     "name": "stdout",
     "output_type": "stream",
     "text": [
      "LabelEncoder saved to 'label_encoder.pkl'.\n"
     ]
    }
   ],
   "source": [
    "import joblib\n",
    "joblib.dump(le, 'label_encoder.pkl')\n",
    "print(\"LabelEncoder saved to 'label_encoder.pkl'.\")"
   ]
  },
  {
   "cell_type": "code",
   "execution_count": 73,
   "id": "c4486601-0a6b-4f42-b06a-6a088a80a5cd",
   "metadata": {},
   "outputs": [],
   "source": [
    "columns_to_drop_final = [\n",
    "    'mood', 'anxious_social_scale', 'sleep_quality',\n",
    "    'appetite_change', 'lack_of_interest', 'enjoyable_activities',\n",
    "    'physical_anxiety_symptoms', 'concentration_difficulty', 'coping_strategies',\n",
    "    'condition_summary',        \n",
    "    'emotional_state_label'     \n",
    "]"
   ]
  },
  {
   "cell_type": "code",
   "execution_count": 75,
   "id": "01f583bf-a2f4-4cbd-aa79-dea5aec854e9",
   "metadata": {},
   "outputs": [
    {
     "name": "stdout",
     "output_type": "stream",
     "text": [
      "\n",
      "--- Preprocessing Complete ---\n",
      "Final processed DataFrame shape: (9504, 16)\n",
      "\n",
      "Final Processed DataFrame (first 5 rows - ready for ML):\n",
      "   mood_encoded  anxious_social_scale_encoded  trigger_Family issues  \\\n",
      "0          10.0                           3.0                   True   \n",
      "1           3.0                           3.0                  False   \n",
      "2          10.0                           2.0                  False   \n",
      "3           4.0                           3.0                  False   \n",
      "4           0.0                           5.0                   True   \n",
      "\n",
      "   trigger_Financial concerns  trigger_Health concerns  \\\n",
      "0                       False                    False   \n",
      "1                       False                    False   \n",
      "2                       False                    False   \n",
      "3                       False                    False   \n",
      "4                       False                    False   \n",
      "\n",
      "   trigger_None of the above  trigger_Social situations  \\\n",
      "0                      False                      False   \n",
      "1                      False                      False   \n",
      "2                      False                      False   \n",
      "3                       True                      False   \n",
      "4                      False                      False   \n",
      "\n",
      "   trigger_Work-related stress  sleep_quality_encoded  \\\n",
      "0                        False                    1.0   \n",
      "1                         True                    5.0   \n",
      "2                         True                    1.0   \n",
      "3                        False                    2.0   \n",
      "4                        False                    0.0   \n",
      "\n",
      "   appetite_change_encoded  lack_of_interest_encoded  \\\n",
      "0                      4.0                         2   \n",
      "1                      2.0                         4   \n",
      "2                      2.0                         4   \n",
      "3                      2.0                         3   \n",
      "4                      0.0                         1   \n",
      "\n",
      "   enjoyable_activities_encoded  physical_anxiety_symptoms_encoded  \\\n",
      "0                             1                                2.0   \n",
      "1                             3                                2.0   \n",
      "2                             2                                2.0   \n",
      "3                             0                                3.0   \n",
      "4                             3                                1.0   \n",
      "\n",
      "   concentration_difficulty_encoded  has_coping_strategies  \\\n",
      "0                                 2                      1   \n",
      "1                                 4                      1   \n",
      "2                                 4                      1   \n",
      "3                                 2                      1   \n",
      "4                                 4                      0   \n",
      "\n",
      "   emotional_state_encoded  \n",
      "0                        0  \n",
      "1                        1  \n",
      "2                        0  \n",
      "3                        2  \n",
      "4                        2  \n",
      "\n",
      "Final Processed DataFrame Columns:\n",
      "['mood_encoded', 'anxious_social_scale_encoded', 'trigger_Family issues', 'trigger_Financial concerns', 'trigger_Health concerns', 'trigger_None of the above', 'trigger_Social situations', 'trigger_Work-related stress', 'sleep_quality_encoded', 'appetite_change_encoded', 'lack_of_interest_encoded', 'enjoyable_activities_encoded', 'physical_anxiety_symptoms_encoded', 'concentration_difficulty_encoded', 'has_coping_strategies', 'emotional_state_encoded']\n"
     ]
    }
   ],
   "source": [
    "df_processed = df.drop(columns=columns_to_drop_final, errors='ignore')\n",
    "\n",
    "print(\"\\n--- Preprocessing Complete ---\")\n",
    "print(f\"Final processed DataFrame shape: {df_processed.shape}\")\n",
    "print(\"\\nFinal Processed DataFrame (first 5 rows - ready for ML):\")\n",
    "print(df_processed.head())\n",
    "print(\"\\nFinal Processed DataFrame Columns:\")\n",
    "print(df_processed.columns.tolist())\n"
   ]
  },
  {
   "cell_type": "code",
   "execution_count": null,
   "id": "8ad71175-8c69-422e-8fa5-b1264a68b9a1",
   "metadata": {},
   "outputs": [],
   "source": [
    "# --- END OF PREPROCESSING ---\n"
   ]
  },
  {
   "cell_type": "code",
   "execution_count": 79,
   "id": "0d3c1827-ef05-4493-9146-17bc0e3ff746",
   "metadata": {},
   "outputs": [],
   "source": [
    "X = df_processed.drop(ENCODED_TARGET_COLUMN, axis=1) # Features are all columns except the encoded target\n",
    "y = df_processed[ENCODED_TARGET_COLUMN]             # Target is the encoded emotional state\n"
   ]
  },
  {
   "cell_type": "code",
   "execution_count": 81,
   "id": "d9a76d01-114f-4949-a39b-a4493fc8131a",
   "metadata": {},
   "outputs": [],
   "source": [
    "from sklearn.model_selection import train_test_split\n",
    "X_train, X_test, y_train, y_test = train_test_split(X, y, test_size=0.2, random_state=42, stratify=y)\n"
   ]
  },
  {
   "cell_type": "code",
   "execution_count": 83,
   "id": "4d5bcdca-128c-4d86-a2a7-544ba4797ea2",
   "metadata": {},
   "outputs": [
    {
     "name": "stdout",
     "output_type": "stream",
     "text": [
      "\n",
      "--- Training Machine Learning Model ---\n"
     ]
    }
   ],
   "source": [
    "from sklearn.linear_model import LogisticRegression\n",
    "from sklearn.ensemble import RandomForestClassifier\n",
    "from sklearn.metrics import accuracy_score, classification_report\n",
    "print(\"\\n--- Training Machine Learning Model ---\")"
   ]
  },
  {
   "cell_type": "code",
   "execution_count": 85,
   "id": "f16e62c1-c510-4c29-a197-037ac1dc0d74",
   "metadata": {},
   "outputs": [
    {
     "name": "stdout",
     "output_type": "stream",
     "text": [
      "Model trained successfully.\n"
     ]
    }
   ],
   "source": [
    "model = RandomForestClassifier(n_estimators=100, random_state=42)\n",
    "model.fit(X_train, y_train)\n",
    "print(\"Model trained successfully.\")"
   ]
  },
  {
   "cell_type": "code",
   "execution_count": 87,
   "id": "5db0cbdc-621e-4ff5-84d2-280f0d140030",
   "metadata": {},
   "outputs": [
    {
     "name": "stdout",
     "output_type": "stream",
     "text": [
      "\n",
      "Model Accuracy on Test Set: 0.67\n",
      "\n",
      "Classification Report:\n",
      "              precision    recall  f1-score   support\n",
      "\n",
      "       Happy       0.61      0.78      0.68       721\n",
      "      Normal       0.61      0.47      0.53       321\n",
      "         Sad       0.76      0.64      0.70       859\n",
      "\n",
      "    accuracy                           0.67      1901\n",
      "   macro avg       0.66      0.63      0.64      1901\n",
      "weighted avg       0.68      0.67      0.66      1901\n",
      "\n"
     ]
    }
   ],
   "source": [
    "y_pred = model.predict(X_test)\n",
    "print(f\"\\nModel Accuracy on Test Set: {accuracy_score(y_test, y_pred):.2f}\")\n",
    "print(\"\\nClassification Report:\")\n",
    "# You'll need to use the LabelEncoder to get the actual class names for the report\n",
    "target_names = le.classes_ # These are ['Happy', 'Normal', 'Sad'] or similar\n",
    "print(classification_report(y_test, y_pred, target_names=target_names))"
   ]
  },
  {
   "cell_type": "code",
   "execution_count": 89,
   "id": "765622fd-6241-4c2b-86b9-e3706ee2fae0",
   "metadata": {},
   "outputs": [
    {
     "name": "stdout",
     "output_type": "stream",
     "text": [
      "\n",
      "Trained model saved to 'emotion_model.pkl'.\n",
      "\n",
      "--- ML Model Training Complete ---\n",
      "You now have a processed DataFrame, a trained model, and a LabelEncoder saved.\n",
      "The next step is to build your Streamlit (or other UI) application.\n"
     ]
    }
   ],
   "source": [
    "joblib.dump(model, 'emotion_model.pkl')\n",
    "print(\"\\nTrained model saved to 'emotion_model.pkl'.\")\n",
    "\n",
    "print(\"\\n--- ML Model Training Complete ---\")\n",
    "print(\"You now have a processed DataFrame, a trained model, and a LabelEncoder saved.\")\n",
    "print(\"The next step is to build your Streamlit (or other UI) application.\")"
   ]
  },
  {
   "cell_type": "code",
   "execution_count": null,
   "id": "a12ad5d1-fec8-4491-981c-32ec1d4c1e56",
   "metadata": {},
   "outputs": [],
   "source": []
  }
 ],
 "metadata": {
  "kernelspec": {
   "display_name": ".venv",
   "language": "python",
   "name": "python3"
  },
  "language_info": {
   "codemirror_mode": {
    "name": "ipython",
    "version": 3
   },
   "file_extension": ".py",
   "mimetype": "text/x-python",
   "name": "python",
   "nbconvert_exporter": "python",
   "pygments_lexer": "ipython3",
   "version": "3.13.3"
  }
 },
 "nbformat": 4,
 "nbformat_minor": 5
}
